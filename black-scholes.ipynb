{
 "cells": [
  {
   "cell_type": "code",
   "execution_count": 88,
   "id": "3ea957cf-69c9-43c4-b04a-2d78915a8476",
   "metadata": {},
   "outputs": [],
   "source": [
    "import numpy as np\n",
    "from scipy.stats import norm\n",
    "import matplotlib.pyplot as plt\n",
    "\n",
    "\n",
    "N = norm.cdf\n",
    "\n",
    "def BS_CALL(S, K, T, r, sigma):\n",
    "    d1 = (np.log(S/K) + (r + sigma**2/2)*T) / (sigma*np.sqrt(T))\n",
    "    d2 = d1 - sigma * np.sqrt(T)\n",
    "    return S * N(d1) - K * np.exp(-r*T)* N(d2)\n",
    "\n",
    "def BS_PUT(S, K, T, r, sigma):\n",
    "    d1 = (np.log(S/K) + (r + sigma**2/2)*T) / (sigma*np.sqrt(T))\n",
    "    d2 = d1 - sigma* np.sqrt(T)\n",
    "    return K*np.exp(-r*T)*N(-d2) - S*N(-d1)\n",
    "\n",
    "def DELTA_CALL(S, K, T, r, sigma):\n",
    "    d1 = (np.log(S/K) + (r + sigma**2/2)*T) / (sigma*np.sqrt(T))\n",
    "    return N(d1)\n",
    "\n",
    "def DELTA_PUT(S, K, T, r, sigma):\n",
    "    return DELTA_CALL(S, K, T, r, sigma)-1\n",
    "\n",
    "def my_metric_put(S, K, T, r, sigma):\n",
    "    return S * DELTA_PUT(S, K, T, r, sigma)\n",
    "\n",
    "def my_metric_call(S, K, T, r, sigma):\n",
    "    return S * DELTA_CALL(S, K, T, r, sigma)\n",
    "\n",
    "def my_other_metric_put(S, K, T, r, sigma):\n",
    "    return S/K * DELTA_PUT(S, K, T, r, sigma)"
   ]
  },
  {
   "cell_type": "code",
   "execution_count": 40,
   "id": "44a0bd0c-e01f-482e-953a-cc04cfc39864",
   "metadata": {},
   "outputs": [
    {
     "data": {
      "text/plain": [
       "1.1628055228931036"
      ]
     },
     "execution_count": 40,
     "metadata": {},
     "output_type": "execute_result"
    }
   ],
   "source": [
    "BS_PUT(9,10,0.1,0.01,0.44)"
   ]
  },
  {
   "cell_type": "code",
   "execution_count": 41,
   "id": "6cddad3d-64ca-434b-9dae-1c92b15d414e",
   "metadata": {},
   "outputs": [
    {
     "data": {
      "text/plain": [
       "-0.46940838834803167"
      ]
     },
     "execution_count": 41,
     "metadata": {},
     "output_type": "execute_result"
    }
   ],
   "source": [
    "DELTA_PUT(10,10,0.1,0.01,0.44)"
   ]
  },
  {
   "cell_type": "code",
   "execution_count": 42,
   "id": "587bf61d-140e-4329-b797-e115ccf877ea",
   "metadata": {},
   "outputs": [
    {
     "data": {
      "text/plain": [
       "-2.454147931144459"
      ]
     },
     "execution_count": 42,
     "metadata": {},
     "output_type": "execute_result"
    }
   ],
   "source": [
    "my_metric(11,10,0.1,0.01,0.44)"
   ]
  },
  {
   "cell_type": "code",
   "execution_count": 90,
   "id": "a34d25ac-93b1-406d-ac75-21177f67a6f8",
   "metadata": {},
   "outputs": [
    {
     "data": {
      "text/plain": [
       "<matplotlib.legend.Legend at 0x7fb584085f10>"
      ]
     },
     "execution_count": 90,
     "metadata": {},
     "output_type": "execute_result"
    },
    {
     "data": {
      "image/png": "[encoded data removed]",
      "text/plain": [
       "<Figure size 432x288 with 1 Axes>"
      ]
     },
     "metadata": {
      "needs_background": "light"
     },
     "output_type": "display_data"
    }
   ],
   "source": [
    "\n",
    "K = 10\n",
    "r = 0.1\n",
    "T = 0.5\n",
    "sigma = 0.84\n",
    "\n",
    "S = np.arange(0.1,15,0.1)\n",
    "\n",
    "puts = [-my_metric_put(s, K, T, r, sigma) for s in S]\n",
    "puts2 = [-my_metric_put(s, K+1, T, r, sigma) for s in S]\n",
    "puts3 = [-my_metric_put(s, K, T*2, r, sigma) for s in S]\n",
    "\n",
    "plt.plot(S, puts, label='my_metric_put')\n",
    "plt.plot(S, puts2, label='my_metric_put2')\n",
    "plt.plot(S, puts3, label='my_metric_put3')\n",
    "plt.xlabel('$S_0$')\n",
    "plt.ylabel(' Metric')\n",
    "plt.legend()\n"
   ]
  },
  {
   "cell_type": "code",
   "execution_count": null,
   "id": "6afcaabf-b534-49c6-a412-71706ff621a9",
   "metadata": {},
   "outputs": [],
   "source": [
    "puts = [-my_other_metric_put(s, K, T, r, sigma) for s in S]\n",
    "puts2 = [-my_other_metric_put(s, K+10, T, r, sigma) for s in S]\n",
    "puts3 = [-my_other_metric_put(s, K, T*2, r, sigma) for s in S]\n",
    "\n",
    "plt.plot(S, puts, label='my_other_metric_put')\n",
    "plt.plot(S, puts2, label='my_other_metric_put2')\n",
    "plt.plot(S, puts3, label='my_other_metric_put3')\n",
    "plt.xlabel('$S_0$')\n",
    "plt.ylabel(' Metric')\n",
    "plt.legend()\n"
   ]
  }
 ],
 "metadata": {
  "kernelspec": {
   "display_name": "Python 3",
   "language": "python",
   "name": "python3"
  },
  "language_info": {
   "codemirror_mode": {
    "name": "ipython",
    "version": 3
   },
   "file_extension": ".py",
   "mimetype": "text/x-python",
   "name": "python",
   "nbconvert_exporter": "python",
   "pygments_lexer": "ipython3",
   "version": "3.8.10"
  }
 },
 "nbformat": 4,
 "nbformat_minor": 5
}
